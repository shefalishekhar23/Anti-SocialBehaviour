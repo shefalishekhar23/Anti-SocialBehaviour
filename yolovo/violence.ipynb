{
  "cells": [
    {
      "cell_type": "code",
      "execution_count": 1,
      "metadata": {},
      "outputs": [
        {
          "name": "stdout",
          "output_type": "stream",
          "text": [
            "d:\\project\\yolovo\\yolov5\n"
          ]
        }
      ],
      "source": [
        "%cd yolov5"
      ]
    },
    {
      "cell_type": "markdown",
      "metadata": {
        "id": "4JnkELT0cIJg"
      },
      "source": [
        "# 1. Detect\n",
        "\n",
        "`detect.py` runs YOLOv5 inference on a variety of sources, downloading models automatically from the [latest YOLOv5 release](https://github.com/ultralytics/yolov5/releases), and saving results to `runs/detect`. Example inference sources are:\n",
        "\n",
        "```shell\n",
        "python detect.py --source 0  # webcam\n",
        "                          img.jpg  # image \n",
        "                          vid.mp4  # video\n",
        "                          screen  # screenshot\n",
        "                          path/  # directory\n",
        "                         'path/*.jpg'  # glob\n",
        "                         'https://youtu.be/Zgi9g1ksQHc'  # YouTube\n",
        "                         'rtsp://example.com/media.mp4'  # RTSP, RTMP, HTTP stream\n",
        "```"
      ]
    },
    {
      "cell_type": "code",
      "execution_count": 2,
      "metadata": {
        "colab": {
          "base_uri": "https://localhost:8080/"
        },
        "id": "zR9ZbuQCH7FX",
        "outputId": "ec346726-d183-41aa-cab3-d57894ca554b"
      },
      "outputs": [
        {
          "name": "stderr",
          "output_type": "stream",
          "text": [
            "\u001b[34m\u001b[1mdetect: \u001b[0mweights=['runs/train/exp5/weights/best.pt'], source=../video.mp4, data=data\\coco128.yaml, imgsz=[640, 640], conf_thres=0.35, iou_thres=0.45, max_det=1000, device=, view_img=False, save_txt=False, save_conf=False, save_crop=False, nosave=False, classes=None, agnostic_nms=False, augment=False, visualize=False, update=False, project=runs\\detect, name=exp, exist_ok=False, line_thickness=3, hide_labels=False, hide_conf=False, half=False, dnn=False, vid_stride=1\n",
            "YOLOv5  v7.0-47-g2370a55 Python-3.10.6 torch-1.13.1+cpu CPU\n",
            "\n",
            "Fusing layers... \n",
            "Model summary: 157 layers, 7012822 parameters, 0 gradients\n",
            "video 1/1 (1/89) C:\\Users\\pc1\\Desktop\\Project_folder\\video.mp4: 384x640 3 Violences, 3405.1ms\n",
            "video 1/1 (2/89) C:\\Users\\pc1\\Desktop\\Project_folder\\video.mp4: 384x640 2 Violences, 878.0ms\n",
            "video 1/1 (3/89) C:\\Users\\pc1\\Desktop\\Project_folder\\video.mp4: 384x640 2 Violences, 1140.1ms\n",
            "video 1/1 (4/89) C:\\Users\\pc1\\Desktop\\Project_folder\\video.mp4: 384x640 3 Violences, 950.1ms\n",
            "video 1/1 (5/89) C:\\Users\\pc1\\Desktop\\Project_folder\\video.mp4: 384x640 3 Violences, 831.0ms\n",
            "video 1/1 (6/89) C:\\Users\\pc1\\Desktop\\Project_folder\\video.mp4: 384x640 3 Violences, 888.0ms\n",
            "video 1/1 (7/89) C:\\Users\\pc1\\Desktop\\Project_folder\\video.mp4: 384x640 2 Violences, 878.0ms\n",
            "video 1/1 (8/89) C:\\Users\\pc1\\Desktop\\Project_folder\\video.mp4: 384x640 2 Violences, 921.1ms\n",
            "video 1/1 (9/89) C:\\Users\\pc1\\Desktop\\Project_folder\\video.mp4: 384x640 2 Violences, 864.0ms\n",
            "video 1/1 (10/89) C:\\Users\\pc1\\Desktop\\Project_folder\\video.mp4: 384x640 2 Violences, 864.0ms\n",
            "video 1/1 (11/89) C:\\Users\\pc1\\Desktop\\Project_folder\\video.mp4: 384x640 2 Violences, 886.0ms\n",
            "video 1/1 (12/89) C:\\Users\\pc1\\Desktop\\Project_folder\\video.mp4: 384x640 2 Violences, 913.0ms\n",
            "video 1/1 (13/89) C:\\Users\\pc1\\Desktop\\Project_folder\\video.mp4: 384x640 2 Violences, 918.0ms\n",
            "video 1/1 (14/89) C:\\Users\\pc1\\Desktop\\Project_folder\\video.mp4: 384x640 2 Violences, 862.0ms\n",
            "video 1/1 (15/89) C:\\Users\\pc1\\Desktop\\Project_folder\\video.mp4: 384x640 2 Violences, 873.0ms\n",
            "video 1/1 (16/89) C:\\Users\\pc1\\Desktop\\Project_folder\\video.mp4: 384x640 2 Violences, 842.0ms\n",
            "video 1/1 (17/89) C:\\Users\\pc1\\Desktop\\Project_folder\\video.mp4: 384x640 3 Violences, 848.0ms\n",
            "video 1/1 (18/89) C:\\Users\\pc1\\Desktop\\Project_folder\\video.mp4: 384x640 2 Violences, 832.0ms\n",
            "video 1/1 (19/89) C:\\Users\\pc1\\Desktop\\Project_folder\\video.mp4: 384x640 3 Violences, 819.0ms\n",
            "video 1/1 (20/89) C:\\Users\\pc1\\Desktop\\Project_folder\\video.mp4: 384x640 2 Violences, 840.0ms\n",
            "video 1/1 (21/89) C:\\Users\\pc1\\Desktop\\Project_folder\\video.mp4: 384x640 3 Violences, 841.0ms\n",
            "video 1/1 (22/89) C:\\Users\\pc1\\Desktop\\Project_folder\\video.mp4: 384x640 2 Violences, 829.0ms\n",
            "video 1/1 (23/89) C:\\Users\\pc1\\Desktop\\Project_folder\\video.mp4: 384x640 3 Violences, 843.0ms\n",
            "video 1/1 (24/89) C:\\Users\\pc1\\Desktop\\Project_folder\\video.mp4: 384x640 4 Violences, 868.0ms\n",
            "video 1/1 (25/89) C:\\Users\\pc1\\Desktop\\Project_folder\\video.mp4: 384x640 2 Violences, 841.0ms\n",
            "video 1/1 (26/89) C:\\Users\\pc1\\Desktop\\Project_folder\\video.mp4: 384x640 2 Violences, 828.0ms\n",
            "video 1/1 (27/89) C:\\Users\\pc1\\Desktop\\Project_folder\\video.mp4: 384x640 3 Violences, 820.0ms\n",
            "video 1/1 (28/89) C:\\Users\\pc1\\Desktop\\Project_folder\\video.mp4: 384x640 2 Violences, 829.0ms\n",
            "video 1/1 (29/89) C:\\Users\\pc1\\Desktop\\Project_folder\\video.mp4: 384x640 1 Violence, 863.6ms\n",
            "video 1/1 (30/89) C:\\Users\\pc1\\Desktop\\Project_folder\\video.mp4: 384x640 1 Violence, 845.0ms\n",
            "video 1/1 (31/89) C:\\Users\\pc1\\Desktop\\Project_folder\\video.mp4: 384x640 1 Violence, 865.0ms\n",
            "video 1/1 (32/89) C:\\Users\\pc1\\Desktop\\Project_folder\\video.mp4: 384x640 2 Violences, 904.0ms\n",
            "video 1/1 (33/89) C:\\Users\\pc1\\Desktop\\Project_folder\\video.mp4: 384x640 3 Violences, 931.0ms\n",
            "video 1/1 (34/89) C:\\Users\\pc1\\Desktop\\Project_folder\\video.mp4: 384x640 4 Violences, 905.0ms\n",
            "video 1/1 (35/89) C:\\Users\\pc1\\Desktop\\Project_folder\\video.mp4: 384x640 4 Violences, 816.0ms\n",
            "video 1/1 (36/89) C:\\Users\\pc1\\Desktop\\Project_folder\\video.mp4: 384x640 4 Violences, 833.0ms\n",
            "video 1/1 (37/89) C:\\Users\\pc1\\Desktop\\Project_folder\\video.mp4: 384x640 4 Violences, 880.0ms\n",
            "video 1/1 (38/89) C:\\Users\\pc1\\Desktop\\Project_folder\\video.mp4: 384x640 3 Violences, 864.0ms\n",
            "video 1/1 (39/89) C:\\Users\\pc1\\Desktop\\Project_folder\\video.mp4: 384x640 3 Violences, 866.6ms\n",
            "video 1/1 (40/89) C:\\Users\\pc1\\Desktop\\Project_folder\\video.mp4: 384x640 3 Violences, 816.0ms\n",
            "video 1/1 (41/89) C:\\Users\\pc1\\Desktop\\Project_folder\\video.mp4: 384x640 3 Violences, 836.0ms\n",
            "video 1/1 (42/89) C:\\Users\\pc1\\Desktop\\Project_folder\\video.mp4: 384x640 3 Violences, 863.0ms\n",
            "video 1/1 (43/89) C:\\Users\\pc1\\Desktop\\Project_folder\\video.mp4: 384x640 2 Violences, 836.0ms\n",
            "video 1/1 (44/89) C:\\Users\\pc1\\Desktop\\Project_folder\\video.mp4: 384x640 2 Violences, 848.0ms\n",
            "video 1/1 (45/89) C:\\Users\\pc1\\Desktop\\Project_folder\\video.mp4: 384x640 2 Violences, 898.0ms\n",
            "video 1/1 (46/89) C:\\Users\\pc1\\Desktop\\Project_folder\\video.mp4: 384x640 2 Violences, 953.0ms\n",
            "video 1/1 (47/89) C:\\Users\\pc1\\Desktop\\Project_folder\\video.mp4: 384x640 2 Violences, 916.0ms\n",
            "video 1/1 (48/89) C:\\Users\\pc1\\Desktop\\Project_folder\\video.mp4: 384x640 2 Violences, 866.0ms\n",
            "video 1/1 (49/89) C:\\Users\\pc1\\Desktop\\Project_folder\\video.mp4: 384x640 1 Violence, 841.0ms\n",
            "video 1/1 (50/89) C:\\Users\\pc1\\Desktop\\Project_folder\\video.mp4: 384x640 3 Violences, 811.1ms\n",
            "video 1/1 (51/89) C:\\Users\\pc1\\Desktop\\Project_folder\\video.mp4: 384x640 3 Violences, 839.0ms\n",
            "video 1/1 (52/89) C:\\Users\\pc1\\Desktop\\Project_folder\\video.mp4: 384x640 3 Violences, 886.0ms\n",
            "video 1/1 (53/89) C:\\Users\\pc1\\Desktop\\Project_folder\\video.mp4: 384x640 1 Violence, 1269.1ms\n",
            "video 1/1 (54/89) C:\\Users\\pc1\\Desktop\\Project_folder\\video.mp4: 384x640 1 Violence, 986.1ms\n",
            "video 1/1 (55/89) C:\\Users\\pc1\\Desktop\\Project_folder\\video.mp4: 384x640 1 Violence, 890.0ms\n",
            "video 1/1 (56/89) C:\\Users\\pc1\\Desktop\\Project_folder\\video.mp4: 384x640 1 Violence, 797.0ms\n",
            "video 1/1 (57/89) C:\\Users\\pc1\\Desktop\\Project_folder\\video.mp4: 384x640 1 Violence, 812.0ms\n",
            "video 1/1 (58/89) C:\\Users\\pc1\\Desktop\\Project_folder\\video.mp4: 384x640 1 Violence, 875.0ms\n",
            "video 1/1 (59/89) C:\\Users\\pc1\\Desktop\\Project_folder\\video.mp4: 384x640 1 Violence, 876.0ms\n",
            "video 1/1 (60/89) C:\\Users\\pc1\\Desktop\\Project_folder\\video.mp4: 384x640 1 Violence, 824.0ms\n",
            "video 1/1 (61/89) C:\\Users\\pc1\\Desktop\\Project_folder\\video.mp4: 384x640 2 Violences, 802.0ms\n",
            "video 1/1 (62/89) C:\\Users\\pc1\\Desktop\\Project_folder\\video.mp4: 384x640 2 Violences, 871.1ms\n",
            "video 1/1 (63/89) C:\\Users\\pc1\\Desktop\\Project_folder\\video.mp4: 384x640 2 Violences, 848.0ms\n",
            "video 1/1 (64/89) C:\\Users\\pc1\\Desktop\\Project_folder\\video.mp4: 384x640 2 Violences, 861.0ms\n",
            "video 1/1 (65/89) C:\\Users\\pc1\\Desktop\\Project_folder\\video.mp4: 384x640 2 Violences, 822.0ms\n",
            "video 1/1 (66/89) C:\\Users\\pc1\\Desktop\\Project_folder\\video.mp4: 384x640 2 Violences, 800.0ms\n",
            "video 1/1 (67/89) C:\\Users\\pc1\\Desktop\\Project_folder\\video.mp4: 384x640 2 Violences, 952.0ms\n",
            "video 1/1 (68/89) C:\\Users\\pc1\\Desktop\\Project_folder\\video.mp4: 384x640 1 Violence, 974.1ms\n",
            "video 1/1 (69/89) C:\\Users\\pc1\\Desktop\\Project_folder\\video.mp4: 384x640 2 Violences, 879.0ms\n",
            "video 1/1 (70/89) C:\\Users\\pc1\\Desktop\\Project_folder\\video.mp4: 384x640 2 Violences, 1086.1ms\n",
            "video 1/1 (71/89) C:\\Users\\pc1\\Desktop\\Project_folder\\video.mp4: 384x640 2 Violences, 913.0ms\n",
            "video 1/1 (72/89) C:\\Users\\pc1\\Desktop\\Project_folder\\video.mp4: 384x640 2 Violences, 1117.1ms\n",
            "video 1/1 (73/89) C:\\Users\\pc1\\Desktop\\Project_folder\\video.mp4: 384x640 2 Violences, 1007.0ms\n",
            "video 1/1 (74/89) C:\\Users\\pc1\\Desktop\\Project_folder\\video.mp4: 384x640 2 Violences, 1078.1ms\n",
            "video 1/1 (75/89) C:\\Users\\pc1\\Desktop\\Project_folder\\video.mp4: 384x640 2 Violences, 1116.1ms\n",
            "video 1/1 (76/89) C:\\Users\\pc1\\Desktop\\Project_folder\\video.mp4: 384x640 2 Violences, 971.1ms\n",
            "video 1/1 (77/89) C:\\Users\\pc1\\Desktop\\Project_folder\\video.mp4: 384x640 2 Violences, 880.0ms\n",
            "video 1/1 (78/89) C:\\Users\\pc1\\Desktop\\Project_folder\\video.mp4: 384x640 2 Violences, 1053.1ms\n",
            "video 1/1 (79/89) C:\\Users\\pc1\\Desktop\\Project_folder\\video.mp4: 384x640 2 Violences, 829.0ms\n",
            "video 1/1 (80/89) C:\\Users\\pc1\\Desktop\\Project_folder\\video.mp4: 384x640 2 Violences, 1066.1ms\n",
            "video 1/1 (81/89) C:\\Users\\pc1\\Desktop\\Project_folder\\video.mp4: 384x640 2 Violences, 785.0ms\n",
            "video 1/1 (82/89) C:\\Users\\pc1\\Desktop\\Project_folder\\video.mp4: 384x640 2 Violences, 866.0ms\n",
            "video 1/1 (83/89) C:\\Users\\pc1\\Desktop\\Project_folder\\video.mp4: 384x640 2 Violences, 928.0ms\n",
            "video 1/1 (84/89) C:\\Users\\pc1\\Desktop\\Project_folder\\video.mp4: 384x640 2 Violences, 922.1ms\n",
            "video 1/1 (85/89) C:\\Users\\pc1\\Desktop\\Project_folder\\video.mp4: 384x640 2 Violences, 932.0ms\n",
            "video 1/1 (86/89) C:\\Users\\pc1\\Desktop\\Project_folder\\video.mp4: 384x640 2 Violences, 750.0ms\n",
            "video 1/1 (87/89) C:\\Users\\pc1\\Desktop\\Project_folder\\video.mp4: 384x640 2 Violences, 771.0ms\n",
            "video 1/1 (88/89) C:\\Users\\pc1\\Desktop\\Project_folder\\video.mp4: 384x640 2 Violences, 777.0ms\n",
            "video 1/1 (89/89) C:\\Users\\pc1\\Desktop\\Project_folder\\video.mp4: 384x640 2 Violences, 791.0ms\n",
            "Speed: 7.6ms pre-process, 915.9ms inference, 7.0ms NMS per image at shape (1, 3, 640, 640)\n",
            "Results saved to \u001b[1mruns\\detect\\exp14\u001b[0m\n"
          ]
        }
      ],
      "source": [
        "!python detect.py --weights runs/train/exp5/weights/best.pt --img 640 --conf 0.35 --source ../../instancetwo/uploadstwo"
      ]
    },
    {
      "cell_type": "code",
      "execution_count": 11,
      "metadata": {
        "colab": {
          "base_uri": "https://localhost:8080/"
        },
        "id": "1NcFxRcFdJ_O",
        "outputId": "377f5f0f-1976-4b8e-ee47-a6646277747d"
      },
      "outputs": [
        {
          "name": "stderr",
          "output_type": "stream",
          "text": [
            "python: can't open file 'c:\\\\Users\\\\pc1\\\\Desktop\\\\Violence_Detection\\\\train.py': [Errno 2] No such file or directory\n"
          ]
        }
      ],
      "source": [
        "# Train YOLOv5s on COCO128 for 3 epochs\n",
        "#!python train.py --img 640 --batch 10 --epochs 100 --data custom_data.yaml --weights yolov5s.pt --cache"
      ]
    },
    {
      "cell_type": "markdown",
      "metadata": {
        "id": "IEijrePND_2I"
      },
      "source": [
        "# Appendix\n",
        "\n",
        "Additional content below."
      ]
    },
    {
      "cell_type": "code",
      "execution_count": null,
      "metadata": {
        "id": "GMusP4OAxFu6"
      },
      "outputs": [],
      "source": [
        "# YOLOv5 PyTorch HUB Inference (DetectionModels only)\n",
        "#import torch\n",
        "\n",
        "#model = torch.hub.load('ultralytics/yolov5', 'yolov5s', force_reload=True)  # yolov5n - yolov5x6 or custom\n",
        "#im = 'https://ultralytics.com/images/zidane.jpg'  # file, Path, PIL.Image, OpenCV, nparray, list\n",
        "#results = model(im)  # inference\n",
        "#results.print()  # or .show(), .save(), .crop(), .pandas(), etc."
      ]
    }
  ],
  "metadata": {
    "accelerator": "GPU",
    "colab": {
      "name": "YOLOv5 Tutorial",
      "provenance": []
    },
    "kernelspec": {
      "display_name": "myenv",
      "language": "python",
      "name": "python3"
    },
    "language_info": {
      "codemirror_mode": {
        "name": "ipython",
        "version": 3
      },
      "file_extension": ".py",
      "mimetype": "text/x-python",
      "name": "python",
      "nbconvert_exporter": "python",
      "pygments_lexer": "ipython3",
      "version": "3.10.8"
    },
    "vscode": {
      "interpreter": {
        "hash": "ea484d63c71013d018c21c8acd28348f8502d2f966598332888a3f064b23a5ca"
      }
    },
    "widgets": {
      "application/vnd.jupyter.widget-state+json": {
        "16b0c8aa6e0f427e8a54d3791abb7504": {
          "model_module": "@jupyter-widgets/base",
          "model_module_version": "1.2.0",
          "model_name": "LayoutModel",
          "state": {
            "_model_module": "@jupyter-widgets/base",
            "_model_module_version": "1.2.0",
            "_model_name": "LayoutModel",
            "_view_count": null,
            "_view_module": "@jupyter-widgets/base",
            "_view_module_version": "1.2.0",
            "_view_name": "LayoutView",
            "align_content": null,
            "align_items": null,
            "align_self": null,
            "border": null,
            "bottom": null,
            "display": null,
            "flex": null,
            "flex_flow": null,
            "grid_area": null,
            "grid_auto_columns": null,
            "grid_auto_flow": null,
            "grid_auto_rows": null,
            "grid_column": null,
            "grid_gap": null,
            "grid_row": null,
            "grid_template_areas": null,
            "grid_template_columns": null,
            "grid_template_rows": null,
            "height": null,
            "justify_content": null,
            "justify_items": null,
            "left": null,
            "margin": null,
            "max_height": null,
            "max_width": null,
            "min_height": null,
            "min_width": null,
            "object_fit": null,
            "object_position": null,
            "order": null,
            "overflow": null,
            "overflow_x": null,
            "overflow_y": null,
            "padding": null,
            "right": null,
            "top": null,
            "visibility": null,
            "width": null
          }
        },
        "1f7df330663048998adcf8a45bc8f69b": {
          "model_module": "@jupyter-widgets/controls",
          "model_module_version": "1.5.0",
          "model_name": "HBoxModel",
          "state": {
            "_dom_classes": [],
            "_model_module": "@jupyter-widgets/controls",
            "_model_module_version": "1.5.0",
            "_model_name": "HBoxModel",
            "_view_count": null,
            "_view_module": "@jupyter-widgets/controls",
            "_view_module_version": "1.5.0",
            "_view_name": "HBoxView",
            "box_style": "",
            "children": [
              "IPY_MODEL_e896e6096dd244c59d7955e2035cd729",
              "IPY_MODEL_a6ff238c29984b24bf6d0bd175c19430",
              "IPY_MODEL_3c085ba3f3fd4c3c8a6bb41b41ce1479"
            ],
            "layout": "IPY_MODEL_16b0c8aa6e0f427e8a54d3791abb7504"
          }
        },
        "3c085ba3f3fd4c3c8a6bb41b41ce1479": {
          "model_module": "@jupyter-widgets/controls",
          "model_module_version": "1.5.0",
          "model_name": "HTMLModel",
          "state": {
            "_dom_classes": [],
            "_model_module": "@jupyter-widgets/controls",
            "_model_module_version": "1.5.0",
            "_model_name": "HTMLModel",
            "_view_count": null,
            "_view_module": "@jupyter-widgets/controls",
            "_view_module_version": "1.5.0",
            "_view_name": "HTMLView",
            "description": "",
            "description_tooltip": null,
            "layout": "IPY_MODEL_df554fb955c7454696beac5a82889386",
            "placeholder": "​",
            "style": "IPY_MODEL_74e9112a87a242f4831b7d68c7da6333",
            "value": " 780M/780M [00:05&lt;00:00, 126MB/s]"
          }
        },
        "6a27e43b0e434edd82ee63f0a91036ca": {
          "model_module": "@jupyter-widgets/controls",
          "model_module_version": "1.5.0",
          "model_name": "DescriptionStyleModel",
          "state": {
            "_model_module": "@jupyter-widgets/controls",
            "_model_module_version": "1.5.0",
            "_model_name": "DescriptionStyleModel",
            "_view_count": null,
            "_view_module": "@jupyter-widgets/base",
            "_view_module_version": "1.2.0",
            "_view_name": "StyleView",
            "description_width": ""
          }
        },
        "74e9112a87a242f4831b7d68c7da6333": {
          "model_module": "@jupyter-widgets/controls",
          "model_module_version": "1.5.0",
          "model_name": "DescriptionStyleModel",
          "state": {
            "_model_module": "@jupyter-widgets/controls",
            "_model_module_version": "1.5.0",
            "_model_name": "DescriptionStyleModel",
            "_view_count": null,
            "_view_module": "@jupyter-widgets/base",
            "_view_module_version": "1.2.0",
            "_view_name": "StyleView",
            "description_width": ""
          }
        },
        "a6ff238c29984b24bf6d0bd175c19430": {
          "model_module": "@jupyter-widgets/controls",
          "model_module_version": "1.5.0",
          "model_name": "FloatProgressModel",
          "state": {
            "_dom_classes": [],
            "_model_module": "@jupyter-widgets/controls",
            "_model_module_version": "1.5.0",
            "_model_name": "FloatProgressModel",
            "_view_count": null,
            "_view_module": "@jupyter-widgets/controls",
            "_view_module_version": "1.5.0",
            "_view_name": "ProgressView",
            "bar_style": "success",
            "description": "",
            "description_tooltip": null,
            "layout": "IPY_MODEL_cce0e6c0c4ec442cb47e65c674e02e92",
            "max": 818322941,
            "min": 0,
            "orientation": "horizontal",
            "style": "IPY_MODEL_c5b9f38e2f0d4f9aa97fe87265263743",
            "value": 818322941
          }
        },
        "c5b9f38e2f0d4f9aa97fe87265263743": {
          "model_module": "@jupyter-widgets/controls",
          "model_module_version": "1.5.0",
          "model_name": "ProgressStyleModel",
          "state": {
            "_model_module": "@jupyter-widgets/controls",
            "_model_module_version": "1.5.0",
            "_model_name": "ProgressStyleModel",
            "_view_count": null,
            "_view_module": "@jupyter-widgets/base",
            "_view_module_version": "1.2.0",
            "_view_name": "StyleView",
            "bar_color": null,
            "description_width": ""
          }
        },
        "c7b2dd0f78384cad8e400b282996cdf5": {
          "model_module": "@jupyter-widgets/base",
          "model_module_version": "1.2.0",
          "model_name": "LayoutModel",
          "state": {
            "_model_module": "@jupyter-widgets/base",
            "_model_module_version": "1.2.0",
            "_model_name": "LayoutModel",
            "_view_count": null,
            "_view_module": "@jupyter-widgets/base",
            "_view_module_version": "1.2.0",
            "_view_name": "LayoutView",
            "align_content": null,
            "align_items": null,
            "align_self": null,
            "border": null,
            "bottom": null,
            "display": null,
            "flex": null,
            "flex_flow": null,
            "grid_area": null,
            "grid_auto_columns": null,
            "grid_auto_flow": null,
            "grid_auto_rows": null,
            "grid_column": null,
            "grid_gap": null,
            "grid_row": null,
            "grid_template_areas": null,
            "grid_template_columns": null,
            "grid_template_rows": null,
            "height": null,
            "justify_content": null,
            "justify_items": null,
            "left": null,
            "margin": null,
            "max_height": null,
            "max_width": null,
            "min_height": null,
            "min_width": null,
            "object_fit": null,
            "object_position": null,
            "order": null,
            "overflow": null,
            "overflow_x": null,
            "overflow_y": null,
            "padding": null,
            "right": null,
            "top": null,
            "visibility": null,
            "width": null
          }
        },
        "cce0e6c0c4ec442cb47e65c674e02e92": {
          "model_module": "@jupyter-widgets/base",
          "model_module_version": "1.2.0",
          "model_name": "LayoutModel",
          "state": {
            "_model_module": "@jupyter-widgets/base",
            "_model_module_version": "1.2.0",
            "_model_name": "LayoutModel",
            "_view_count": null,
            "_view_module": "@jupyter-widgets/base",
            "_view_module_version": "1.2.0",
            "_view_name": "LayoutView",
            "align_content": null,
            "align_items": null,
            "align_self": null,
            "border": null,
            "bottom": null,
            "display": null,
            "flex": null,
            "flex_flow": null,
            "grid_area": null,
            "grid_auto_columns": null,
            "grid_auto_flow": null,
            "grid_auto_rows": null,
            "grid_column": null,
            "grid_gap": null,
            "grid_row": null,
            "grid_template_areas": null,
            "grid_template_columns": null,
            "grid_template_rows": null,
            "height": null,
            "justify_content": null,
            "justify_items": null,
            "left": null,
            "margin": null,
            "max_height": null,
            "max_width": null,
            "min_height": null,
            "min_width": null,
            "object_fit": null,
            "object_position": null,
            "order": null,
            "overflow": null,
            "overflow_x": null,
            "overflow_y": null,
            "padding": null,
            "right": null,
            "top": null,
            "visibility": null,
            "width": null
          }
        },
        "df554fb955c7454696beac5a82889386": {
          "model_module": "@jupyter-widgets/base",
          "model_module_version": "1.2.0",
          "model_name": "LayoutModel",
          "state": {
            "_model_module": "@jupyter-widgets/base",
            "_model_module_version": "1.2.0",
            "_model_name": "LayoutModel",
            "_view_count": null,
            "_view_module": "@jupyter-widgets/base",
            "_view_module_version": "1.2.0",
            "_view_name": "LayoutView",
            "align_content": null,
            "align_items": null,
            "align_self": null,
            "border": null,
            "bottom": null,
            "display": null,
            "flex": null,
            "flex_flow": null,
            "grid_area": null,
            "grid_auto_columns": null,
            "grid_auto_flow": null,
            "grid_auto_rows": null,
            "grid_column": null,
            "grid_gap": null,
            "grid_row": null,
            "grid_template_areas": null,
            "grid_template_columns": null,
            "grid_template_rows": null,
            "height": null,
            "justify_content": null,
            "justify_items": null,
            "left": null,
            "margin": null,
            "max_height": null,
            "max_width": null,
            "min_height": null,
            "min_width": null,
            "object_fit": null,
            "object_position": null,
            "order": null,
            "overflow": null,
            "overflow_x": null,
            "overflow_y": null,
            "padding": null,
            "right": null,
            "top": null,
            "visibility": null,
            "width": null
          }
        },
        "e896e6096dd244c59d7955e2035cd729": {
          "model_module": "@jupyter-widgets/controls",
          "model_module_version": "1.5.0",
          "model_name": "HTMLModel",
          "state": {
            "_dom_classes": [],
            "_model_module": "@jupyter-widgets/controls",
            "_model_module_version": "1.5.0",
            "_model_name": "HTMLModel",
            "_view_count": null,
            "_view_module": "@jupyter-widgets/controls",
            "_view_module_version": "1.5.0",
            "_view_name": "HTMLView",
            "description": "",
            "description_tooltip": null,
            "layout": "IPY_MODEL_c7b2dd0f78384cad8e400b282996cdf5",
            "placeholder": "​",
            "style": "IPY_MODEL_6a27e43b0e434edd82ee63f0a91036ca",
            "value": "100%"
          }
        }
      }
    }
  },
  "nbformat": 4,
  "nbformat_minor": 0
}
